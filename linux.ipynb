{
  "nbformat": 4,
  "nbformat_minor": 0,
  "metadata": {
    "colab": {
      "name": "Colab RDP.ipynb",
      "provenance": [],
      "collapsed_sections": []
    },
    "kernelspec": {
      "name": "python3",
      "display_name": "Python 3"
    },
    "accelerator": "GPU"
  },
  "cells": [
    {
      "cell_type": "markdown",
      "metadata": {
        "id": "iLh_9SkSut4u"
      },
      "source": [
        "# **Colab RDP** : Remote Desktop to Colab Instance"
      ]
    },
    {
      "cell_type": "code",
      "metadata": {
        "id": "t4yNp3KmLtZ6",
        "colab": {
          "base_uri": "https://localhost:8080/"
        },
        "outputId": "bff70c79-c892-44f2-ef15-ec2a2759b612"
      },
      "source": [
        "#@title **Create User**\n",
        "#@markdown Enter Username and Password\n",
        "\n",
        "import os\n",
        "\n",
        "username = \"omar\" #@param {type:\"string\"}\n",
        "password = \"Omar001103823\" #@param {type:\"string\"}\n",
        "\n",
        "print(\"Creating User and Setting it up\")\n",
        "\n",
        "# Creation of user\n",
        "os.system(f\"useradd -m {username}\")\n",
        "\n",
        "# Add user to sudo group\n",
        "os.system(f\"adduser {username} sudo\")\n",
        "    \n",
        "# Set password of user to 'root'\n",
        "os.system(f\"echo '{username}:{password}' | sudo chpasswd\")\n",
        "\n",
        "# Change default shell from sh to bash\n",
        "os.system(\"sed -i 's/\\/bin\\/sh/\\/bin\\/bash/g' /etc/passwd\")\n",
        "\n",
        "print(\"User Created and Configured\")"
      ],
      "execution_count": 1,
      "outputs": [
        {
          "output_type": "stream",
          "name": "stdout",
          "text": [
            "Creating User and Setting it up\n",
            "User Created and Configured\n"
          ]
        }
      ]
    },
    {
      "cell_type": "code",
      "metadata": {
        "id": "Q6bl1b0EifVG",
        "colab": {
          "base_uri": "https://localhost:8080/"
        },
        "outputId": "0ba35ac3-529d-4c05-a9b0-55b7275f751e"
      },
      "source": [
        "#@title **RDP**\n",
        "#@markdown  It takes 4-5 minutes for installation\n",
        "\n",
        "import os\n",
        "import subprocess\n",
        "\n",
        "#@markdown  Visit http://remotedesktop.google.com/headless and Copy the command after authentication\n",
        "\n",
        "CRP = \"DISPLAY= /opt/google/chrome-remote-desktop/start-host --code=\\\"4/0AX4XfWgGZluj3T5CvRMsMKWDTBfzYCjpoVoBYbIU6XzbcsVSeRDHjT8f-qcGzpVJNue9pw\\\" --redirect-url=\\\"https://remotedesktop.google.com/_/oauthredirect\\\" --name=$(hostname)\" #@param {type:\"string\"}\n",
        "\n",
        "#@markdown Enter a pin more or equal to 6 digits\n",
        "Pin =  654321#@param {type: \"integer\"}\n",
        "\n",
        "\n",
        "class CRD:\n",
        "    def __init__(self):\n",
        "        os.system(\"apt update\")\n",
        "        self.installCRD()\n",
        "        self.installDesktopEnvironment()\n",
        "        self.installGoogleChorme()\n",
        "        self.finish()\n",
        "\n",
        "    @staticmethod\n",
        "    def installCRD():\n",
        "        print(\"Installing Chrome Remote Desktop\")\n",
        "        subprocess.run(['wget', 'https://dl.google.com/linux/direct/chrome-remote-desktop_current_amd64.deb'], stdout=subprocess.PIPE)\n",
        "        subprocess.run(['dpkg', '--install', 'chrome-remote-desktop_current_amd64.deb'], stdout=subprocess.PIPE)\n",
        "        subprocess.run(['apt', 'install', '--assume-yes', '--fix-broken'], stdout=subprocess.PIPE)\n",
        "\n",
        "    @staticmethod\n",
        "    def installDesktopEnvironment():\n",
        "        print(\"Installing Desktop Environment\")\n",
        "        os.system(\"export DEBIAN_FRONTEND=noninteractive\")\n",
        "        os.system(\"apt install --assume-yes xfce4 desktop-base xfce4-terminal\")\n",
        "        os.system(\"bash -c 'echo \\\"exec /etc/X11/Xsession /usr/bin/xfce4-session\\\" > /etc/chrome-remote-desktop-session'\")\n",
        "        os.system(\"apt remove --assume-yes gnome-terminal\")\n",
        "        os.system(\"apt install --assume-yes xscreensaver\")\n",
        "        os.system(\"systemctl disable lightdm.service\")\n",
        "\n",
        "    @staticmethod\n",
        "    def installGoogleChorme():\n",
        "        print(\"Installing Google Chrome\")\n",
        "        subprocess.run([\"wget\", \"https://dl.google.com/linux/direct/google-chrome-stable_current_amd64.deb\"], stdout=subprocess.PIPE)\n",
        "        subprocess.run([\"dpkg\", \"--install\", \"google-chrome-stable_current_amd64.deb\"], stdout=subprocess.PIPE)\n",
        "        subprocess.run(['apt', 'install', '--assume-yes', '--fix-broken'], stdout=subprocess.PIPE)\n",
        "\n",
        "    @staticmethod\n",
        "    def finish():\n",
        "        print(\"Finalizing\")\n",
        "        os.system(f\"adduser {username} chrome-remote-desktop\")\n",
        "        command = f\"{CRP} --pin={Pin}\"\n",
        "        os.system(f\"su - {username} -c '{command}'\")\n",
        "        os.system(\"service chrome-remote-desktop start\")\n",
        "        print(\"Finished Succesfully\")\n",
        "\n",
        "\n",
        "try:\n",
        "    if username:\n",
        "        if CRP == \"\":\n",
        "            print(\"Please enter authcode from the given link\")\n",
        "        elif len(str(Pin)) < 6:\n",
        "            print(\"Enter a pin more or equal to 6 digits\")\n",
        "        else:\n",
        "            CRD()\n",
        "except NameError as e:\n",
        "    print(\"username variable not found\")\n",
        "    print(\"Create a User First\")"
      ],
      "execution_count": 2,
      "outputs": [
        {
          "output_type": "stream",
          "name": "stdout",
          "text": [
            "Installing Chrome Remote Desktop\n",
            "Installing Desktop Environment\n",
            "Installing Google Chrome\n",
            "Finalizing\n",
            "Finished Succesfully\n"
          ]
        }
      ]
    },
    {
      "cell_type": "code",
      "metadata": {
        "id": "vk2qtOTGIFsQ",
        "colab": {
          "base_uri": "https://localhost:8080/"
        },
        "outputId": "d17f4873-747f-45f1-cb84-52b175a9bf8c"
      },
      "source": [
        "#@title **Google Drive Mount**\n",
        "#@markdown Google Drive used as Persistance HDD for files.<br>\n",
        "#@markdown Mounted at `user` Home directory inside drive folder\n",
        "#@markdown (If `username` variable not defined then use root as default).\n",
        "\n",
        "\n",
        "def MountGDrive():\n",
        "    from os import environ as env\n",
        "    from google.colab import drive\n",
        "\n",
        "    config = env['CLOUDSDK_CONFIG']\n",
        "    addr = env['TBE_CREDS_ADDR']\n",
        "\n",
        "    ! runuser -l $user -c \"yes | python3 -m pip install --user google-colab\"  > /dev/null 2>&1\n",
        "\n",
        "    mount = \"\"\"from os import environ as env\n",
        "from google.colab import drive\n",
        "\n",
        "env['CLOUDSDK_CONFIG']  = '{config}'\n",
        "env['TBE_CREDS_ADDR'] = '{addr}'\n",
        "\n",
        "drive.mount('{mountpoint}')\"\"\".format(config=config, addr=addr, mountpoint=mountpoint)\n",
        "\n",
        "    with open('/content/mount.py', 'w') as script:\n",
        "        script.write(mount)\n",
        "\n",
        "    ! runuser -l $user -c \"python3 /content/mount.py\"\n",
        "\n",
        "try:\n",
        "    mountpoint = f\"/home/{username}/drive\"\n",
        "    user = username\n",
        "except NameError:\n",
        "    print(\"username variable not found, mounting at `/content/drive' using `root'\")\n",
        "    mountpoint = '/content/drive'\n",
        "    user = 'root'\n",
        "\n",
        "MountGDrive()"
      ],
      "execution_count": 6,
      "outputs": [
        {
          "output_type": "stream",
          "name": "stdout",
          "text": [
            "Mounted at /home/omar/drive\n"
          ]
        }
      ]
    },
    {
      "cell_type": "code",
      "metadata": {
        "id": "UoeBdz6_KE6a"
      },
      "source": [
        "#@title **Colab Shutdown**\n",
        "\n",
        "#@markdown To Unmount GDrive\n",
        "GDrive = True #@param {type:'boolean'}\n",
        "\n",
        "if GDrive:\n",
        "    with open('/content/unmount.py', 'w') as unmount:\n",
        "        unmount.write(\"\"\"from google.colab import drive\n",
        "drive.flush_and_unmount()\"\"\")\n",
        "    \n",
        "    try:\n",
        "        if user:\n",
        "            ! runuser $user -c 'python3 /content/unmount.py'\n",
        "    except NameError:\n",
        "        print(\"Google Drive not Mounted\")"
      ],
      "execution_count": 5,
      "outputs": []
    }
  ]
}